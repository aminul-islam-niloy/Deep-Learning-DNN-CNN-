{
 "cells": [
  {
   "cell_type": "code",
   "execution_count": null,
   "metadata": {
    "vscode": {
     "languageId": "plaintext"
    }
   },
   "outputs": [],
   "source": [
    "import tensorflow as tf\n",
    "from tensorflow.keras import layers, models\n",
    "from tensorflow.keras.applications import VGG16\n",
    "from tensorflow.keras.datasets import mnist\n",
    "from tensorflow.keras.utils import to_categorical\n",
    "from tensorflow.keras.preprocessing.image import ImageDataGenerator\n",
    "import numpy as np\n",
    "import matplotlib.pyplot as plt"
   ]
  },
  {
   "cell_type": "code",
   "execution_count": null,
   "metadata": {
    "vscode": {
     "languageId": "plaintext"
    }
   },
   "outputs": [],
   "source": [
    "\n",
    "# Load MNIST dataset\n",
    "(input_train, target_train), (input_test, target_test) = mnist.load_data()\n",
    "\n",
    "# Add a channel dimension to the grayscale images (from 28x28 to 28x28x1)\n",
    "input_train = input_train.reshape(-1, 28, 28, 1)\n",
    "input_test = input_test.reshape(-1, 28, 28, 1)\n",
    "\n",
    "# Preprocess data: Resize MNIST images from 28x28x1 to 32x32x3\n",
    "input_train_resized = np.array([tf.image.resize(img, (32, 32)) for img in input_train])\n",
    "input_test_resized = np.array([tf.image.resize(img, (32, 32)) for img in input_test])\n",
    "\n",
    "# Normalize pixel values to be between 0 and 1\n",
    "input_train_resized = input_train_resized.astype('float32') / 255\n",
    "input_test_resized = input_test_resized.astype('float32') / 255"
   ]
  },
  {
   "cell_type": "code",
   "execution_count": null,
   "metadata": {
    "vscode": {
     "languageId": "plaintext"
    }
   },
   "outputs": [],
   "source": [
    "# Convert labels to one-hot encoded vectors\n",
    "target_train = to_categorical(target_train, 10)\n",
    "target_test = to_categorical(target_test, 10)\n",
    "\n",
    "# Data Augmentation\n",
    "datagen = ImageDataGenerator(\n",
    "    rotation_range=10,\n",
    "    width_shift_range=0.1,\n",
    "    height_shift_range=0.1,\n",
    "    shear_range=0.1,\n",
    "    zoom_range=0.1\n",
    ")\n",
    "datagen.fit(input_train_resized)"
   ]
  },
  {
   "cell_type": "code",
   "execution_count": null,
   "metadata": {
    "vscode": {
     "languageId": "plaintext"
    }
   },
   "outputs": [],
   "source": [
    "# Define a function to create the customized VGG16 model\n",
    "def create_model():\n",
    "    # Load VGG16 model with pre-trained weights from ImageNet and exclude top layers\n",
    "    vgg16 = VGG16(weights='imagenet', include_top=False, input_shape=(32, 32, 3))\n",
    "\n",
    "    # Freeze fully-connected (FC) and output layers of VGG16\n",
    "    for layer in vgg16.layers:\n",
    "        layer.trainable = False\n",
    "\n",
    "    # Add custom layers for MNIST classification\n",
    "    model = models.Sequential()\n",
    "    model.add(layers.Conv2D(3, (3, 3), padding='same', input_shape=(32, 32, 1)))  # Convert grayscale to 3 channels\n",
    "    model.add(vgg16)\n",
    "    model.add(layers.Flatten())\n",
    "    model.add(layers.Dense(512, activation='relu'))  # New FC layer\n",
    "    model.add(layers.Dense(10, activation='softmax'))  # Output layer\n",
    "\n",
    "    # Compile model\n",
    "    model.compile(optimizer='adam', loss='categorical_crossentropy', metrics=['accuracy'])\n",
    "    return model\n"
   ]
  },
  {
   "cell_type": "code",
   "execution_count": null,
   "metadata": {
    "vscode": {
     "languageId": "plaintext"
    }
   },
   "outputs": [],
   "source": [
    "\n",
    "# Create the original VGG16 model\n",
    "model_original = create_model()\n",
    "\n",
    "# Train the model with original data\n",
    "history_original = model_original.fit(input_train_resized, target_train, epochs=5, \n",
    "                                       batch_size=64, validation_data=(input_test_resized, target_test))\n",
    "\n",
    "# Create the augmented data generator\n",
    "train_generator = datagen.flow(input_train_resized, target_train, batch_size=64)\n",
    "\n",
    "# Create the augmented VGG16 model\n",
    "model_augmented = create_model()\n",
    "\n",
    "# Train the model with augmented data\n",
    "history_augmented = model_augmented.fit(train_generator, epochs=5, \n",
    "                                         validation_data=(input_test_resized, target_test))\n",
    "\n",
    "# Evaluate the models on the test set\n",
    "score_original = model_original.evaluate(input_test_resized, target_test)\n",
    "score_augmented = model_augmented.evaluate(datagen.flow(input_test_resized, target_test, batch_size=64))\n",
    "\n",
    "# Print evaluation scores\n",
    "print(f\"Original Model - Test loss: {score_original[0]}, Test accuracy: {score_original[1]}\")\n",
    "print(f\"Augmented Model - Test loss: {score_augmented[0]}, Test accuracy: {score_augmented[1]}\")\n",
    "\n",
    "# Plot the accuracy of both models\n",
    "plt.figure(figsize=(12, 6))\n",
    "plt.plot(history_original.history['accuracy'], label='Original Train Accuracy', color='blue')\n",
    "plt.plot(history_original.history['val_accuracy'], label='Original Validation Accuracy', color='cyan')\n",
    "plt.plot(history_augmented.history['accuracy'], label='Augmented Train Accuracy', color='orange')\n",
    "plt.plot(history_augmented.history['val_accuracy'], label='Augmented Validation Accuracy', color='red')\n",
    "plt.title('Model Accuracy Comparison')\n",
    "plt.ylabel('Accuracy')\n",
    "plt.xlabel('Epoch')\n",
    "plt.legend()\n",
    "plt.show()\n",
    "\n",
    "# Display model summary and number of parameters\n",
    "print(\"Original Model Summary:\")\n",
    "model_original.summary()\n",
    "print(\"\\nAugmented Model Summary:\")\n",
    "model_augmented.summary()\n"
   ]
  }
 ],
 "metadata": {
  "kernelspec": {
   "display_name": "Python 3",
   "language": "python",
   "name": "python3"
  },
  "language_info": {
   "codemirror_mode": {
    "name": "ipython",
    "version": 3
   },
   "file_extension": ".py",
   "mimetype": "text/x-python",
   "name": "python",
   "nbconvert_exporter": "python",
   "pygments_lexer": "ipython3",
   "version": "3.11.4"
  }
 },
 "nbformat": 4,
 "nbformat_minor": 2
}
